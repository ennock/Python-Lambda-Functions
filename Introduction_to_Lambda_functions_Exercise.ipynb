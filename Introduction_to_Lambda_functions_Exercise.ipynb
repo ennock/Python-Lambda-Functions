{
 "cells": [
  {
   "cell_type": "markdown",
   "id": "cd88ea27",
   "metadata": {},
   "source": [
    "<div align=\"center\" style=\" font-size: 80%; text-align: center; margin: 0 auto\">\n",
    "<img src=\"https://raw.githubusercontent.com/Explore-AI/Pictures/master/Python-Notebook-Banners/Exercise.png\"  style=\"display: block; margin-left: auto; margin-right: auto;\";/>\n",
    "</div>"
   ]
  },
  {
   "cell_type": "markdown",
   "id": "f662d169",
   "metadata": {},
   "source": [
    "# Exercise: Introduction to Lambda functions\n",
    "© ExploreAI Academy"
   ]
  },
  {
   "cell_type": "markdown",
   "id": "26af890c",
   "metadata": {},
   "source": [
    "In this notebook, we demonstrate the principles and implementation of Lambda functions in Python."
   ]
  },
  {
   "cell_type": "markdown",
   "id": "2d230d14",
   "metadata": {
    "tags": []
   },
   "source": [
    "## Learning objectives\n",
    "\n",
    "In this train we will learn:\n",
    "- How to write Lambda functions in Python.\n",
    "- How to use Lambda functions in conjunction with built-in Python functions."
   ]
  },
  {
   "cell_type": "markdown",
   "id": "de45a481",
   "metadata": {},
   "source": [
    "## Exercises"
   ]
  },
  {
   "cell_type": "markdown",
   "id": "107a577e",
   "metadata": {},
   "source": [
    "### Exercise 1\n",
    "\n",
    "Given the function `root` which calculates the `y`th root of a number `x`, as shown below:"
   ]
  },
  {
   "cell_type": "code",
   "execution_count": null,
   "id": "4c603a72",
   "metadata": {},
   "outputs": [],
   "source": [
    "def root(x,y):\n",
    "    return x**(1/y)"
   ]
  },
  {
   "cell_type": "markdown",
   "id": "e7f1534a",
   "metadata": {},
   "source": [
    "Create an equivalent lambda function and name it `y_root`."
   ]
  },
  {
   "cell_type": "code",
   "execution_count": 1,
   "id": "8ec8371c",
   "metadata": {},
   "outputs": [],
   "source": [
    "# insert code here\n",
    "y_root =lambda x,y: x**(1/y)"
   ]
  },
  {
   "cell_type": "code",
   "execution_count": 3,
   "id": "6e483f9c",
   "metadata": {},
   "outputs": [
    {
     "name": "stdout",
     "output_type": "stream",
     "text": [
      "3.9999999999999996\n"
     ]
    }
   ],
   "source": [
    "print(y_root(64,3))"
   ]
  },
  {
   "cell_type": "markdown",
   "id": "78360aa9",
   "metadata": {},
   "source": [
    "Expected Output:\n",
    "\n",
    "```\n",
    "y_root(25,2)== 5.0\n",
    "y_root(8,3) == 2.0\n",
    "```"
   ]
  },
  {
   "cell_type": "markdown",
   "id": "d7f1616c",
   "metadata": {},
   "source": [
    "### Exercise 2 \n",
    "\n",
    "Write a lambda function named `sort`. This function should take a single argument: a list of numbers. It should return a new list with the numbers sorted in ascending order. "
   ]
  },
  {
   "cell_type": "code",
   "execution_count": 7,
   "id": "32b423ab",
   "metadata": {},
   "outputs": [],
   "source": [
    "# insert code here\n",
    "sort = lambda numbers: sorted(numbers)"
   ]
  },
  {
   "cell_type": "markdown",
   "id": "a5d878e1",
   "metadata": {},
   "source": [
    "Expected Output:\n",
    "```\n",
    "sort([6,2,3,9,1,5]) == [1, 2, 3, 5, 6, 9]\n",
    "```"
   ]
  },
  {
   "cell_type": "code",
   "execution_count": 8,
   "id": "31022665",
   "metadata": {},
   "outputs": [
    {
     "data": {
      "text/plain": [
       "[1, 2, 3, 5, 6, 9]"
      ]
     },
     "execution_count": 8,
     "metadata": {},
     "output_type": "execute_result"
    }
   ],
   "source": [
    "sort([6,2,3,9,1,5])"
   ]
  },
  {
   "cell_type": "markdown",
   "id": "35242bf7",
   "metadata": {},
   "source": [
    "### Exercise 3\n",
    "\n",
    "Write a lambda function named `filtered_list`, that makes use of the `filter()` function, to print a `list` of integers that are greater than 9.\n",
    "\n",
    "Use `list1` as the input for the function."
   ]
  },
  {
   "cell_type": "code",
   "execution_count": null,
   "id": "8261f683",
   "metadata": {},
   "outputs": [],
   "source": [
    "list1 = [2, 6, 8, 10, 11, 4, 12, 7, 13, 17, 0, 3, 21]\n",
    "\n",
    "# insert code here"
   ]
  },
  {
   "cell_type": "markdown",
   "id": "d495a093",
   "metadata": {},
   "source": [
    "Expected Output:\n",
    "\n",
    "```\n",
    "[10, 11, 12, 13, 17, 21]\n",
    "```\n"
   ]
  },
  {
   "cell_type": "markdown",
   "id": "833e827e",
   "metadata": {},
   "source": [
    "### Exercise 4\n",
    "\n",
    "Write a lambda function named `mapped_list`, that makes use of the `map()` function, to output the remainder after dividing each number in `list2` by 2.\n",
    "\n",
    "Use `list2` as the input for the function. Print the results as a list."
   ]
  },
  {
   "cell_type": "code",
   "execution_count": 11,
   "id": "1e2e4e1a",
   "metadata": {},
   "outputs": [
    {
     "name": "stdout",
     "output_type": "stream",
     "text": [
      "[0, 0, 0, 0, 1, 0, 0, 1, 1, 1, 0, 1, 1]\n"
     ]
    }
   ],
   "source": [
    "list2 = [2, 6, 8, 10, 11, 4, 12, 7, 13, 17, 0, 3, 21]\n",
    "\n",
    "# insert code here\n",
    "mapped_list = list(map(lambda x: x % 2, list2))\n",
    "print(mapped_list)"
   ]
  },
  {
   "cell_type": "markdown",
   "id": "89eb1279",
   "metadata": {},
   "source": [
    "Expected output: \n",
    "\n",
    "```\n",
    "[0, 0, 0, 0, 1, 0, 0, 1, 1, 1, 0, 1, 1]\n",
    "```"
   ]
  }
 ],
 "metadata": {
  "kernelspec": {
   "display_name": "Python 3 (ipykernel)",
   "language": "python",
   "name": "python3"
  },
  "language_info": {
   "codemirror_mode": {
    "name": "ipython",
    "version": 3
   },
   "file_extension": ".py",
   "mimetype": "text/x-python",
   "name": "python",
   "nbconvert_exporter": "python",
   "pygments_lexer": "ipython3",
   "version": "3.11.5"
  }
 },
 "nbformat": 4,
 "nbformat_minor": 5
}
